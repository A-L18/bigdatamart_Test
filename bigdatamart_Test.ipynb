{
 "cells": [
  {
   "cell_type": "code",
   "execution_count": null,
   "id": "32f3837f",
   "metadata": {},
   "outputs": [],
   "source": [
    "import numpy as np\n",
    "import pandas as pd\n",
    "import seaborn as sns\n",
    "import matplotlib.pyplot as plt"
   ]
  },
  {
   "cell_type": "code",
   "execution_count": null,
   "id": "c1cb808f",
   "metadata": {},
   "outputs": [],
   "source": [
    "df_train = pd.read_csv(\"https://github.com/dsrscientist/bigdatamart_rep/blob/57854a33a5a8eebbfbf387a6a7cb20b66bd7a2d0/bigdatamart_Test.csv\")\n",
    "df_train.head()"
   ]
  },
  {
   "cell_type": "code",
   "execution_count": null,
   "id": "5da549e5",
   "metadata": {},
   "outputs": [],
   "source": [
    "df_train.profile_report(style={'full_width':True},title='Training dataset Profiling Report')\n"
   ]
  },
  {
   "cell_type": "code",
   "execution_count": null,
   "id": "52a24db4",
   "metadata": {},
   "outputs": [],
   "source": [
    "print(\"Columns in training dataset based on datatypes {}\".format(df_train.columns.to_series().groupby(df_train.dtypes).groups))"
   ]
  },
  {
   "cell_type": "code",
   "execution_count": null,
   "id": "258fe719",
   "metadata": {},
   "outputs": [],
   "source": [
    "df_train.shape"
   ]
  },
  {
   "cell_type": "code",
   "execution_count": null,
   "id": "e8c578a6",
   "metadata": {},
   "outputs": [],
   "source": [
    "df_train.isnull().sum()"
   ]
  },
  {
   "cell_type": "code",
   "execution_count": null,
   "id": "17be3070",
   "metadata": {},
   "outputs": [],
   "source": [
    "df_train['Item_Weight']=df_train['Item_Weight'].fillna(df_train['Item_Weight'].mean())\n"
   ]
  },
  {
   "cell_type": "code",
   "execution_count": null,
   "id": "0a6f1d8f",
   "metadata": {},
   "outputs": [],
   "source": [
    "df_train['Outlet_Size']=df_train['Outlet_Size'].fillna(df_train['Outlet_Size'].mode()[0])\n"
   ]
  },
  {
   "cell_type": "code",
   "execution_count": null,
   "id": "cc0d0e46",
   "metadata": {},
   "outputs": [],
   "source": [
    "import seaborn as sns\n",
    "sns.heatmap(df_train.isnull(),yticklabels=False,cbar=False,cmap='coolwarm')"
   ]
  },
  {
   "cell_type": "code",
   "execution_count": null,
   "id": "5f56bd3c",
   "metadata": {},
   "outputs": [],
   "source": [
    "df_train.describe(include = 'all')\n"
   ]
  },
  {
   "cell_type": "code",
   "execution_count": null,
   "id": "ddff23af",
   "metadata": {},
   "outputs": [],
   "source": [
    "df_train.info()\n"
   ]
  },
  {
   "cell_type": "code",
   "execution_count": null,
   "id": "b8c1616f",
   "metadata": {},
   "outputs": [],
   "source": [
    "df_train['Outlet_Identifier'].value_counts().plot(kind='bar',color = 'Black')\n"
   ]
  },
  {
   "cell_type": "code",
   "execution_count": null,
   "id": "0b0d2640",
   "metadata": {},
   "outputs": [],
   "source": [
    "df_train = df_train.drop(['Item_Identifier','Outlet_Identifier'],axis=1)\n",
    "df_train.head()"
   ]
  },
  {
   "cell_type": "code",
   "execution_count": null,
   "id": "3cb30811",
   "metadata": {},
   "outputs": [],
   "source": [
    "df_train['Item_Fat_Content'].value_counts().plot(kind='bar',color = 'black')\n"
   ]
  },
  {
   "cell_type": "code",
   "execution_count": null,
   "id": "c7b19bda",
   "metadata": {},
   "outputs": [],
   "source": [
    "df_train =  df_train.replace(to_replace =\"low fat\",  value =\"Low Fat\") \n",
    "df_train =  df_train.replace(to_replace =\"LF\",  value =\"Low Fat\") \n",
    "df_train =  df_train.replace(to_replace =\"reg\",  value =\"Regular\") "
   ]
  },
  {
   "cell_type": "code",
   "execution_count": null,
   "id": "5050d061",
   "metadata": {},
   "outputs": [],
   "source": [
    "df_train['Item_Fat_Content'].value_counts().plot(kind='bar',color = 'Green')\n"
   ]
  },
  {
   "cell_type": "code",
   "execution_count": null,
   "id": "6af37d8a",
   "metadata": {},
   "outputs": [],
   "source": [
    "df_train['Item_Type'].value_counts().plot(kind='bar',color = 'Green')\n"
   ]
  },
  {
   "cell_type": "code",
   "execution_count": null,
   "id": "409bbeaa",
   "metadata": {},
   "outputs": [],
   "source": [
    "df_train['Outlet_Size'].value_counts().plot(kind='bar',color = 'green')\n"
   ]
  },
  {
   "cell_type": "code",
   "execution_count": null,
   "id": "309e382e",
   "metadata": {},
   "outputs": [],
   "source": [
    "df_train['Outlet_Location_Type'].value_counts().plot(kind='bar',color = 'Green')\n"
   ]
  },
  {
   "cell_type": "code",
   "execution_count": null,
   "id": "79a6964a",
   "metadata": {},
   "outputs": [],
   "source": [
    "df_train['Outlet_Type'].value_counts().plot(kind='bar',color = 'green')\n"
   ]
  },
  {
   "cell_type": "code",
   "execution_count": null,
   "id": "68b28c8b",
   "metadata": {},
   "outputs": [],
   "source": [
    "y = df_train['Item_Weight']\n",
    "plt.figure(1); \n",
    "sns.distplot(y, kde=True,color = 'red')"
   ]
  },
  {
   "cell_type": "code",
   "execution_count": null,
   "id": "ba15f649",
   "metadata": {},
   "outputs": [],
   "source": [
    "y = df_train['Item_Visibility']\n",
    "plt.figure(1); \n",
    "sns.distplot(y, kde=True,color = 'red')"
   ]
  },
  {
   "cell_type": "code",
   "execution_count": null,
   "id": "d58e4723",
   "metadata": {},
   "outputs": [],
   "source": [
    "y = df_train['Item_MRP']\n",
    "plt.figure(1);\n",
    "sns.distplot(y, kde=True,color = 'red')"
   ]
  },
  {
   "cell_type": "code",
   "execution_count": null,
   "id": "e4beff2f",
   "metadata": {},
   "outputs": [],
   "source": [
    "y = df_train['Outlet_Establishment_Year']\n",
    "plt.figure(1); \n",
    "sns.distplot(y, kde=True,color = 'red')"
   ]
  },
  {
   "cell_type": "code",
   "execution_count": null,
   "id": "4cdaa160",
   "metadata": {},
   "outputs": [],
   "source": [
    "y = df_train['Item_Outlet_Sales']\n",
    "plt.figure(1);\n",
    "sns.distplot(y, kde=True,color = 'red')"
   ]
  },
  {
   "cell_type": "code",
   "execution_count": null,
   "id": "29da9391",
   "metadata": {},
   "outputs": [],
   "source": [
    "df_train[\"Qty_Sold\"] = (df_train[\"Item_Outlet_Sales\"]/df_train[\"Item_MRP\"])\n",
    "df_train.head()"
   ]
  },
  {
   "cell_type": "code",
   "execution_count": null,
   "id": "12c98cea",
   "metadata": {},
   "outputs": [],
   "source": [
    "df_train[\"Qty_Sold\"] = (df_train[\"Item_Outlet_Sales\"]/df_train[\"Item_MRP\"])\n",
    "df_train.head()"
   ]
  },
  {
   "cell_type": "code",
   "execution_count": null,
   "id": "913b9c8f",
   "metadata": {},
   "outputs": [],
   "source": [
    "categorical_columns=[x for x in df_train.dtypes.index if df_train.dtypes[x]=='object']\n",
    "categorical_columns"
   ]
  },
  {
   "cell_type": "code",
   "execution_count": null,
   "id": "f6fef0cb",
   "metadata": {},
   "outputs": [],
   "source": [
    "df_train.pivot_table(index='Outlet_Type',values='Item_Outlet_Sales')"
   ]
  },
  {
   "cell_type": "code",
   "execution_count": null,
   "id": "35f0ab56",
   "metadata": {},
   "outputs": [],
   "source": [
    "for col in categorical_columns:\n",
    "    print('Frequency of categories for variable')\n",
    "    print(df_train[col].value_counts())\n",
    "    print(\"\\n\")"
   ]
  },
  {
   "cell_type": "code",
   "execution_count": null,
   "id": "7c50c207",
   "metadata": {},
   "outputs": [],
   "source": [
    "from sklearn.preprocessing import LabelEncoder\n",
    "labelencoder=LabelEncoder()\n",
    "for col in df_train.columns:\n",
    "    df_train[col] = labelencoder.fit_transform(df_train[col])"
   ]
  },
  {
   "cell_type": "code",
   "execution_count": null,
   "id": "b032e40b",
   "metadata": {},
   "outputs": [],
   "source": [
    "df_train=pd.get_dummies(df_train, columns=['Item_Fat_Content',\n",
    " 'Item_Type',\n",
    " 'Outlet_Size',\n",
    " 'Outlet_Location_Type',\n",
    " 'Outlet_Type'],drop_first=False)\n",
    "\n",
    "print(df_train.shape)"
   ]
  },
  {
   "cell_type": "code",
   "execution_count": null,
   "id": "41df0f53",
   "metadata": {},
   "outputs": [],
   "source": [
    "df_train.columns\n",
    "df = df_train[['Item_Weight', 'Item_Visibility', 'Item_MRP',\n",
    "       'Outlet_Establishment_Year',\n",
    "       'Item_Fat_Content_0', 'Item_Fat_Content_1', 'Item_Type_0',\n",
    "       'Item_Type_1', 'Item_Type_2', 'Item_Type_3', 'Item_Type_4',\n",
    "       'Item_Type_5', 'Item_Type_6', 'Item_Type_7', 'Item_Type_8',\n",
    "       'Item_Type_9', 'Item_Type_10', 'Item_Type_11', 'Item_Type_12',\n",
    "       'Item_Type_13', 'Item_Type_14', 'Item_Type_15', 'Outlet_Size_0',\n",
    "       'Outlet_Size_1', 'Outlet_Size_2', 'Outlet_Location_Type_0',\n",
    "       'Outlet_Location_Type_1', 'Outlet_Location_Type_2', 'Outlet_Type_0',\n",
    "       'Outlet_Type_1', 'Outlet_Type_2', 'Outlet_Type_3', 'Item_Outlet_Sales', 'Qty_Sold']]\n",
    "df.head()"
   ]
  },
  {
   "cell_type": "code",
   "execution_count": null,
   "id": "786010cf",
   "metadata": {},
   "outputs": [],
   "source": [
    "df.shape\n"
   ]
  },
  {
   "cell_type": "code",
   "execution_count": null,
   "id": "f0377b98",
   "metadata": {},
   "outputs": [],
   "source": [
    "for col in df.columns: \n",
    "    print(col)"
   ]
  },
  {
   "cell_type": "code",
   "execution_count": null,
   "id": "bda72a37",
   "metadata": {},
   "outputs": [],
   "source": [
    "X = df.iloc[:,0:33].values\n",
    "y = df.iloc[:,-1].values"
   ]
  },
  {
   "cell_type": "code",
   "execution_count": null,
   "id": "72e8f675",
   "metadata": {},
   "outputs": [],
   "source": [
    "from sklearn.model_selection import train_test_split\n",
    "X_train, X_test, y_train, y_test = train_test_split(X,y,test_size=0.2,random_state=4)"
   ]
  },
  {
   "cell_type": "code",
   "execution_count": null,
   "id": "e685ba48",
   "metadata": {},
   "outputs": [],
   "source": [
    "from sklearn.decomposition import PCA\n",
    "pca = PCA(n_components = None)\n",
    "X_train = pca.fit_transform(X_train)\n",
    "X_test = pca.transform(X_test)\n",
    "explained_variance = pca.explained_variance_ratio_\n",
    "\n",
    "print(explained_variance)"
   ]
  },
  {
   "cell_type": "code",
   "execution_count": null,
   "id": "8f0448c1",
   "metadata": {},
   "outputs": [],
   "source": [
    "len(explained_variance)"
   ]
  },
  {
   "cell_type": "code",
   "execution_count": null,
   "id": "afef430e",
   "metadata": {},
   "outputs": [],
   "source": [
    "print(\"Sorted List returned :\")\n",
    "print(sorted(explained_variance,reverse = True))"
   ]
  },
  {
   "cell_type": "code",
   "execution_count": null,
   "id": "93a31048",
   "metadata": {},
   "outputs": [],
   "source": [
    "with plt.style.context('dark_background'):\n",
    "    plt.figure(figsize=(16, 8))\n",
    "    \n",
    "    plt.bar(range(33), explained_variance, alpha=0.5, align='center',label='individual explained variance')\n",
    "    plt.ylabel('Explained variance ratio')\n",
    "    plt.xlabel('Principal components')\n",
    "    plt.legend(loc='best')\n",
    "    plt.tight_layout()"
   ]
  },
  {
   "cell_type": "code",
   "execution_count": null,
   "id": "70cb0ec0",
   "metadata": {},
   "outputs": [],
   "source": [
    "from sklearn.decomposition import PCA\n",
    "pca = PCA(n_components = 3)\n",
    "X_train = pca.fit_transform(X_train)\n",
    "X_test = pca.transform(X_test)\n",
    "explained_variance = pca.explained_variance_ratio_\n",
    "print(explained_variance)"
   ]
  },
  {
   "cell_type": "code",
   "execution_count": null,
   "id": "4907404e",
   "metadata": {},
   "outputs": [],
   "source": [
    "from sklearn.linear_model import LinearRegression\n",
    "from sklearn.ensemble import RandomForestRegressor\n",
    "from sklearn.tree import DecisionTreeRegressor\n",
    "from sklearn.model_selection import cross_val_predict\n",
    "from sklearn.model_selection import cross_val_score\n",
    "from sklearn.model_selection import cross_validate\n",
    "from sklearn.ensemble import AdaBoostRegressor,BaggingRegressor,ExtraTreesRegressor,GradientBoostingRegressor"
   ]
  },
  {
   "cell_type": "code",
   "execution_count": null,
   "id": "2c575598",
   "metadata": {},
   "outputs": [],
   "source": [
    "lin_reg = LinearRegression()\n",
    "lin_reg.fit(X_train, y_train)"
   ]
  },
  {
   "cell_type": "code",
   "execution_count": null,
   "id": "906fb82b",
   "metadata": {},
   "outputs": [],
   "source": [
    "tree = DecisionTreeRegressor()\n",
    "tree.fit(X_train, y_train)"
   ]
  },
  {
   "cell_type": "code",
   "execution_count": null,
   "id": "925de6f9",
   "metadata": {},
   "outputs": [],
   "source": [
    "forest = RandomForestRegressor(n_jobs=-1)\n",
    "forest.fit(X_train, y_train)"
   ]
  },
  {
   "cell_type": "code",
   "execution_count": null,
   "id": "23ca2d80",
   "metadata": {},
   "outputs": [],
   "source": [
    "Ada_boost = AdaBoostRegressor()\n",
    "Ada_boost.fit(X_train, y_train)"
   ]
  },
  {
   "cell_type": "code",
   "execution_count": null,
   "id": "f7ab875b",
   "metadata": {},
   "outputs": [],
   "source": [
    "Bagging = BaggingRegressor()\n",
    "Bagging.fit(X_train, y_train)"
   ]
  },
  {
   "cell_type": "code",
   "execution_count": null,
   "id": "ff643a13",
   "metadata": {},
   "outputs": [],
   "source": [
    "Extra_trees = ExtraTreesRegressor()\n",
    "Extra_trees.fit(X_train, y_train)"
   ]
  },
  {
   "cell_type": "code",
   "execution_count": null,
   "id": "016cf748",
   "metadata": {},
   "outputs": [],
   "source": [
    "Gradient_boosting = GradientBoostingRegressor()\n",
    "Gradient_boosting.fit(X_train, y_train)"
   ]
  },
  {
   "cell_type": "code",
   "execution_count": null,
   "id": "9e1bfd27",
   "metadata": {},
   "outputs": [],
   "source": [
    "models= [('lin_reg', lin_reg), ('forest', forest), ('dt', tree),('Ada_boost',Ada_boost),('Bagging',Bagging),('Extra_trees',Extra_trees),('Gradient_boosting',Gradient_boosting)]\n",
    "scoring = ['neg_mean_squared_error', 'neg_mean_absolute_error', 'r2']\n",
    "results= []\n",
    "metric= []\n",
    "for name, model in models:\n",
    "    for i in scoring:\n",
    "        scores = cross_validate(model, X_train, y_train, scoring=i, cv=10, return_train_score=True)\n",
    "        results.append(scores)\n",
    "\n",
    "print(results[20])"
   ]
  },
  {
   "cell_type": "code",
   "execution_count": null,
   "id": "78ac7c34",
   "metadata": {},
   "outputs": [],
   "source": [
    "LR_RMSE_mean = np.sqrt(-results[0]['test_score'].mean())\n",
    "LR_RMSE_std= results[0]['test_score'].std()\n",
    "LR_MAE_mean = -results[1]['test_score'].mean()\n",
    "LR_MAE_std= results[1]['test_score'].std()\n",
    "LR_r2_mean = results[2]['test_score'].mean()\n",
    "LR_r2_std = results[2]['test_score'].std()"
   ]
  },
  {
   "cell_type": "code",
   "execution_count": null,
   "id": "f6c0d429",
   "metadata": {},
   "outputs": [],
   "source": [
    "RF_RMSE_mean = np.sqrt(-results[3]['test_score'].mean())\n",
    "RF_RMSE_std= results[3]['test_score'].std()\n",
    "RF_MAE_mean = -results[4]['test_score'].mean()\n",
    "RF_MAE_std= results[4]['test_score'].std()\n",
    "RF_r2_mean = results[5]['test_score'].mean()\n",
    "RF_r2_std = results[5]['test_score'].std()\n",
    "\n"
   ]
  },
  {
   "cell_type": "code",
   "execution_count": null,
   "id": "ab196895",
   "metadata": {},
   "outputs": [],
   "source": [
    "DT_RMSE_mean = np.sqrt(-results[6]['test_score'].mean())\n",
    "DT_RMSE_std= results[6]['test_score'].std()\n",
    "DT_MAE_mean = -results[7]['test_score'].mean()\n",
    "DT_MAE_std= results[7]['test_score'].std()\n",
    "DT_r2_mean = results[8]['test_score'].mean()\n",
    "DT_r2_std = results[8]['test_score'].std()"
   ]
  },
  {
   "cell_type": "code",
   "execution_count": null,
   "id": "067fb9ac",
   "metadata": {},
   "outputs": [],
   "source": [
    "ADA_RMSE_mean = np.sqrt(-results[9]['test_score'].mean())\n",
    "ADA_RMSE_std= results[9]['test_score'].std()\n",
    "ADA_MAE_mean = -results[10]['test_score'].mean()\n",
    "ADA_MAE_std= results[10]['test_score'].std()\n",
    "ADA_r2_mean = results[11]['test_score'].mean()\n",
    "ADA_r2_std = results[11]['test_score'].std()"
   ]
  },
  {
   "cell_type": "code",
   "execution_count": null,
   "id": "0061afea",
   "metadata": {},
   "outputs": [],
   "source": [
    "BAGGING_RMSE_mean = np.sqrt(-results[12]['test_score'].mean())\n",
    "BAGGING_RMSE_std= results[12]['test_score'].std()\n",
    "BAGGING_MAE_mean = -results[13]['test_score'].mean()\n",
    "BAGGING_MAE_std= results[13]['test_score'].std()\n",
    "BAGGING_r2_mean = results[14]['test_score'].mean()\n",
    "BAGGING_r2_std = results[14]['test_score'].std()"
   ]
  },
  {
   "cell_type": "code",
   "execution_count": null,
   "id": "45609ce6",
   "metadata": {},
   "outputs": [],
   "source": [
    "ET_RMSE_mean = np.sqrt(-results[15]['test_score'].mean())\n",
    "ET_RMSE_std= results[15]['test_score'].std()\n",
    "ET_MAE_mean = -results[16]['test_score'].mean()\n",
    "ET_MAE_std= results[16]['test_score'].std()\n",
    "ET_r2_mean = results[17]['test_score'].mean()\n",
    "ET_r2_std = results[17]['test_score'].std()"
   ]
  },
  {
   "cell_type": "code",
   "execution_count": null,
   "id": "58992462",
   "metadata": {},
   "outputs": [],
   "source": [
    "GB_RMSE_mean = np.sqrt(-results[18]['test_score'].mean())\n",
    "GB_RMSE_std= results[18]['test_score'].std()\n",
    "GB_MAE_mean = -results[19]['test_score'].mean()\n",
    "GB_MAE_std= results[19]['test_score'].std()\n",
    "GB_r2_mean = results[20]['test_score'].mean()\n",
    "GB_r2_std = results[20]['test_score'].std()"
   ]
  },
  {
   "cell_type": "code",
   "execution_count": null,
   "id": "5ef0efac",
   "metadata": {},
   "outputs": [],
   "source": [
    "modelDF = pd.DataFrame({\n",
    "    'Model'       : ['Linear Regression', 'Random Forest', 'Decision Trees','Ada Boosting','Bagging','Extra trees','Gradient Boosting'],\n",
    "    'RMSE_mean'    : [LR_RMSE_mean, RF_RMSE_mean, DT_RMSE_mean,ADA_RMSE_mean,BAGGING_RMSE_mean,ET_RMSE_mean,GB_RMSE_mean],\n",
    "    'RMSE_std'    : [LR_RMSE_std, RF_RMSE_std, DT_RMSE_std,ADA_RMSE_std,BAGGING_RMSE_std,ET_RMSE_std,GB_RMSE_std],\n",
    "    'MAE_mean'   : [LR_MAE_mean, RF_MAE_mean, DT_MAE_mean,ADA_MAE_mean,BAGGING_MAE_mean,ET_MAE_mean,GB_MAE_mean],\n",
    "    'MAE_std'   : [LR_MAE_std, RF_MAE_std, DT_MAE_std, ADA_MAE_std, BAGGING_MAE_std, ET_MAE_std, GB_MAE_std],\n",
    "    'r2_mean'      : [LR_r2_mean, RF_r2_mean, DT_r2_mean, ADA_r2_mean,BAGGING_r2_mean, ET_r2_mean, GB_r2_mean],\n",
    "    'r2_std'      : [LR_r2_std, RF_r2_std, DT_r2_std, ADA_r2_std,BAGGING_r2_std, ET_r2_std, GB_r2_std],\n",
    "    }, columns = ['Model', 'RMSE_mean', 'RMSE_std', 'MAE_mean', 'MAE_std', 'r2_mean', 'r2_std'])\n",
    "\n",
    "    \n",
    "modelDF.sort_values(by='r2_mean', ascending=False)"
   ]
  },
  {
   "cell_type": "code",
   "execution_count": null,
   "id": "18f28508",
   "metadata": {},
   "outputs": [],
   "source": [
    "import seaborn as sns\n",
    "\n",
    "sns.factorplot(x= 'Model', y= 'RMSE_mean', data= modelDF, kind='bar',size=6, aspect=4)"
   ]
  },
  {
   "cell_type": "code",
   "execution_count": null,
   "id": "93601ead",
   "metadata": {},
   "outputs": [],
   "source": [
    "from sklearn.model_selection import GridSearchCV,StratifiedKFold\n",
    "\n",
    "ETC = ExtraTreesRegressor()\n",
    "gb_param_grid = {'n_estimators' : [100,200,300,400,500],\n",
    "              'max_depth': [4, 8,12,16],\n",
    "              'min_samples_leaf' : [100,150,200,250],\n",
    "              'max_features' : [0.3, 0.1] \n",
    "              }\n",
    "\n",
    "gsETC = GridSearchCV(ETC,param_grid = gb_param_grid, cv=10, n_jobs= -1, verbose = 0)\n",
    "\n",
    "gsETC.fit(X_train,y_train)"
   ]
  },
  {
   "cell_type": "code",
   "execution_count": null,
   "id": "2577cc03",
   "metadata": {},
   "outputs": [],
   "source": [
    "ETC_best = gsETC.best_estimator_"
   ]
  },
  {
   "cell_type": "code",
   "execution_count": null,
   "id": "3953054d",
   "metadata": {},
   "outputs": [],
   "source": [
    "gsETC.best_score_,gsETC.best_params_"
   ]
  },
  {
   "cell_type": "code",
   "execution_count": null,
   "id": "ce0ed4fb",
   "metadata": {},
   "outputs": [],
   "source": [
    "ETC = ExtraTreesRegressor(max_depth= 8,max_features = 0.3,min_samples_leaf =  100,n_estimators= 500)\n",
    "ETC.fit(X_train, y_train)\n",
    "y_pred = ETC.predict(X_test)"
   ]
  },
  {
   "cell_type": "code",
   "execution_count": null,
   "id": "238218df",
   "metadata": {},
   "outputs": [],
   "source": [
    "from sklearn import metrics\n",
    "print(\"MAE:\", metrics.mean_absolute_error(y_test, y_pred))\n",
    "print('MSE:', metrics.mean_squared_error(y_test, y_pred))\n",
    "print('RMSE:', np.sqrt(metrics.mean_squared_error(y_test, y_pred)))"
   ]
  }
 ],
 "metadata": {
  "kernelspec": {
   "display_name": "Python 3",
   "language": "python",
   "name": "python3"
  },
  "language_info": {
   "codemirror_mode": {
    "name": "ipython",
    "version": 3
   },
   "file_extension": ".py",
   "mimetype": "text/x-python",
   "name": "python",
   "nbconvert_exporter": "python",
   "pygments_lexer": "ipython3",
   "version": "3.8.8"
  }
 },
 "nbformat": 4,
 "nbformat_minor": 5
}
